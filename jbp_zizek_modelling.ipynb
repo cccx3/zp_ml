{
 "cells": [
  {
   "cell_type": "code",
   "execution_count": 1,
   "metadata": {
    "collapsed": true
   },
   "outputs": [],
   "source": [
    "from bs4 import BeautifulSoup\n",
    "from urllib.request import urlopen, Request\n",
    "import re\n",
    "import requests\n",
    "from sklearn.datasets import load_iris\n",
    "from sklearn.model_selection import train_test_split\n",
    "from sklearn.naive_bayes import MultinomialNB\n",
    "from sklearn.model_selection import GridSearchCV,StratifiedKFold\n",
    "from sklearn.feature_extraction.text import CountVectorizer\n",
    "from sklearn.pipeline import Pipeline"
   ]
  },
  {
   "cell_type": "markdown",
   "metadata": {},
   "source": [
    "Peterson starts with: reddit \n",
    "Peterson ends with: Leave a comment"
   ]
  },
  {
   "cell_type": "markdown",
   "metadata": {},
   "source": [
    "# Get Zizek url's\n",
    "Zizek's pages are embedded w/'posted-on', so pull them by looking for them"
   ]
  },
  {
   "cell_type": "code",
   "execution_count": 2,
   "metadata": {
    "collapsed": false
   },
   "outputs": [],
   "source": [
    "zizek_article_ls = []\n",
    "\n",
    "pages = [\"https://zizek.uk/category/article/lecture/\",\n",
    "            \"https://zizek.uk/category/article/lecture/page/2/\"]\n",
    "\n",
    "for page in pages:\n",
    "    \n",
    "    r = requests.get(page)\n",
    "    data = r.content\n",
    "    soup = BeautifulSoup(data, \"html.parser\")\n",
    "\n",
    "    for content in soup.find_all('span',{'class':'posted-on'}):\n",
    "       link = content.find('a',href=True)\n",
    "       if link is None:\n",
    "           continue\n",
    "       zizek_article_ls.append(link['href'])\n"
   ]
  },
  {
   "cell_type": "markdown",
   "metadata": {},
   "source": [
    "Remove first link (it's also a compendium of lecture transcripts')"
   ]
  },
  {
   "cell_type": "code",
   "execution_count": 3,
   "metadata": {
    "collapsed": false
   },
   "outputs": [],
   "source": [
    "zizek_article_ls = zizek_article_ls[3:]"
   ]
  },
  {
   "cell_type": "code",
   "execution_count": 4,
   "metadata": {
    "collapsed": false
   },
   "outputs": [
    {
     "data": {
      "text/plain": [
       "['https://zizek.uk/slavoj-zizek-the-courage-of-hopelessness-may-2017/',\n",
       " 'https://zizek.uk/is-lacan-an-anti-philosopher-23-slavoj-zizek-transcript/']"
      ]
     },
     "execution_count": 4,
     "metadata": {},
     "output_type": "execute_result"
    }
   ],
   "source": [
    "zizek_article_ls[:2]"
   ]
  },
  {
   "cell_type": "markdown",
   "metadata": {},
   "source": [
    "# Get Zizek Data\n",
    "\n",
    "Now we actually get Zizek's data; credit to this post:\n",
    "\n",
    "https://stackoverflow.com/questions/22799990/beatifulsoup4-get-text-still-has-javascript"
   ]
  },
  {
   "cell_type": "code",
   "execution_count": 5,
   "metadata": {
    "collapsed": false
   },
   "outputs": [],
   "source": [
    "# Munge doc takes in a url & returns its text content as a list of words\n",
    "\n",
    "def munge_doc(url,start_token,end_token): \n",
    "    page = urlopen(Request(url, headers={'User-Agent': 'Mozilla/5.0'}))\n",
    "    html = page.read().decode(\"utf-8\")\n",
    "    soup = BeautifulSoup(html, \"html.parser\")\n",
    "    for script in soup([\"script\", \"style\"]):\n",
    "        script.decompose()    \n",
    "    \n",
    "    text = soup.get_text()\n",
    "    \n",
    "    lines = (line.strip() for line in text.splitlines())\n",
    "    \n",
    "    chunks = (phrase.strip() for line in lines for phrase in line.split(\"  \"))\n",
    "    \n",
    "    # drop blank lines & replace escape characters/quotes\n",
    "    text = '\\n'.join(chunk for chunk in chunks if chunk).replace(\"’\", \n",
    "                                                                 \"\").replace(\"'\",\n",
    "                                                                             \"\").replace(\"'\\'\", \n",
    "                                                                                         \"\")\n",
    "    \n",
    "    text = text.replace('zizek',\n",
    "                        '').replace('Zizek',\n",
    "                                            '').replace('Žižek',\n",
    "                                                                '')\n",
    "    text = text.replace(' se ','')\n",
    "    \n",
    "    # locate words & subset list to start/end token\n",
    "    words = re.findall(r'\\w+', text)\n",
    "    \n",
    "    words_out = words[words.index(start_token)+1:words.index(end_token)]\n",
    "\n",
    "    return words"
   ]
  },
  {
   "cell_type": "markdown",
   "metadata": {},
   "source": [
    "Note for zizek the start token is 'Lectures' and stop is 'friendsClick', based on my understanding of page layout. We excise the first 50 tokens & the last 400, since those are mostly intros & links to social media:"
   ]
  },
  {
   "cell_type": "code",
   "execution_count": 6,
   "metadata": {
    "collapsed": false
   },
   "outputs": [],
   "source": [
    "zizek_doc_ls = []\n",
    "zizek_urls_used = []\n",
    "\n",
    "# loop over articles in zizek list, append docs/urls to running lists\n",
    "for article in zizek_article_ls:\n",
    "    doc = munge_doc(article,'Lectures','friendsClick')\n",
    "    doc = doc[50:-400]\n",
    "    \n",
    "    # ignore short docs\n",
    "    if len(doc) < 100:\n",
    "        continue\n",
    "        \n",
    "    zizek_urls_used.append(article)\n",
    "    zizek_doc_ls.append(doc)"
   ]
  },
  {
   "cell_type": "markdown",
   "metadata": {},
   "source": [
    "Now, we sanity check to see how many words Zizek gave us back, and find that if we were to chunk articles into ~250 words each, we would have ~400 samples"
   ]
  },
  {
   "cell_type": "code",
   "execution_count": 7,
   "metadata": {
    "collapsed": false
   },
   "outputs": [
    {
     "data": {
      "text/plain": [
       "99349"
      ]
     },
     "execution_count": 7,
     "metadata": {},
     "output_type": "execute_result"
    }
   ],
   "source": [
    "import itertools\n",
    "\n",
    "len(list(itertools.chain.from_iterable(zizek_doc_ls)))"
   ]
  },
  {
   "cell_type": "code",
   "execution_count": 8,
   "metadata": {
    "collapsed": false
   },
   "outputs": [
    {
     "data": {
      "text/plain": [
       "400.0"
      ]
     },
     "execution_count": 8,
     "metadata": {},
     "output_type": "execute_result"
    }
   ],
   "source": [
    "100000/250"
   ]
  },
  {
   "cell_type": "markdown",
   "metadata": {},
   "source": [
    "# Get Peterson url's\n",
    "We go through the list of JBP's transcripts on his site to get relevant transcripts:"
   ]
  },
  {
   "cell_type": "code",
   "execution_count": 9,
   "metadata": {
    "collapsed": false
   },
   "outputs": [],
   "source": [
    "jbp_article_ls = []\n",
    "\n",
    "pages = [\"https://www.jordanbpeterson.com/transcripts/\"]\n",
    "\n",
    "for page in pages:\n",
    "    \n",
    "    r = requests.get(page)\n",
    "    data = r.content  \n",
    "    soup = BeautifulSoup(data, \"html.parser\")\n",
    "\n",
    "    # \n",
    "    for i in soup.find_all('h4',{'class':'entry-title'}):\n",
    "       link = i.find('a',href=True)\n",
    "       if link is None:\n",
    "           continue\n",
    "       jbp_article_ls.append(link['href'])\n"
   ]
  },
  {
   "cell_type": "markdown",
   "metadata": {},
   "source": [
    "# Get JBP Data\n",
    "JBP interviews formatted a bit differently, so we handle by excising text from his other speakers. Additionally, we note their acroynms from these pages (e.g., LH for Lewis Howes)"
   ]
  },
  {
   "cell_type": "code",
   "execution_count": 10,
   "metadata": {
    "collapsed": true
   },
   "outputs": [],
   "source": [
    "interview_ls = [('https://www.jordanbpeterson.com/transcripts/douglas-murray/','DM'),\n",
    " ('https://www.jordanbpeterson.com/transcripts/transliminal/','JL'),\n",
    " ('https://www.jordanbpeterson.com/transcripts/lewis-howes/','LH'),\n",
    " ('https://www.jordanbpeterson.com/transcripts/lewis-howes-2/','LH'),\n",
    " ('https://www.jordanbpeterson.com/transcripts/aubrey-marcus/','AM'),\n",
    " ('https://www.jordanbpeterson.com/transcripts/ben-shapiro-1/','BS'),\n",
    " ('https://www.jordanbpeterson.com/transcripts/russell-brand-2/','RB')]"
   ]
  },
  {
   "cell_type": "code",
   "execution_count": 11,
   "metadata": {
    "collapsed": false
   },
   "outputs": [],
   "source": [
    "jbp_doc_ls = []\n",
    "jbp_urls_used = []\n",
    "for interview_tup in interview_ls:\n",
    "    page = urlopen(Request(interview_tup[0], headers={'User-Agent': 'Mozilla/5.0'}))\n",
    "    html = page.read().decode(\"utf-8\")\n",
    "    soup = BeautifulSoup(html,\"lxml\")\n",
    "    \n",
    "    # the 'd' class will tell us where his text lives\n",
    "    doc_pre = soup.body.find('div', attrs={'class':'d'}).get_text()\n",
    "    \n",
    "    # use regexp to find when JP stops/starts speaking\n",
    "    doc = re.sub(interview_tup[1]+':[^JP]+JP', '',doc_pre)\n",
    "    \n",
    "    # if, for whatever reason, source is too brief, cut it\n",
    "    if len(doc) < 100:\n",
    "        continue\n",
    "        \n",
    "    jbp_urls_used.append(interview_tup[0])\n",
    "    \n",
    "    # excise 'jp'\n",
    "    jbp_doc_ls.append(doc.lower().replace(\"’\", \"\").replace(\"'\",\n",
    "                                                   \"\").replace(\"'\\'\", \n",
    "                                                               \"\").replace('jp',\n",
    "                                                                           '').replace('rb',''))"
   ]
  },
  {
   "cell_type": "markdown",
   "metadata": {},
   "source": [
    "# Process data\n",
    "\n",
    "Now we munge data to make it cleaner; first we remove first 200 characters for each JBP speech, last 50 for JBP (already munged Zizek)"
   ]
  },
  {
   "cell_type": "code",
   "execution_count": 12,
   "metadata": {
    "collapsed": false
   },
   "outputs": [],
   "source": [
    "jbp_doc_ls = [x[200:-50] for x in jbp_doc_ls]"
   ]
  },
  {
   "cell_type": "code",
   "execution_count": 13,
   "metadata": {
    "collapsed": false
   },
   "outputs": [],
   "source": [
    "jbp_docs_tokenized = [re.findall(r'\\w+', x) for x in jbp_doc_ls]"
   ]
  },
  {
   "cell_type": "markdown",
   "metadata": {},
   "source": [
    "### Get all docs together\n",
    "We make a final list of tokens for jbp and zizek"
   ]
  },
  {
   "cell_type": "code",
   "execution_count": 14,
   "metadata": {
    "collapsed": false
   },
   "outputs": [],
   "source": [
    "jbp_token_ls = list(itertools.chain.from_iterable(jbp_docs_tokenized))"
   ]
  },
  {
   "cell_type": "code",
   "execution_count": 15,
   "metadata": {
    "collapsed": false
   },
   "outputs": [],
   "source": [
    "zizek_token_ls = list(itertools.chain.from_iterable(zizek_doc_ls))"
   ]
  },
  {
   "cell_type": "code",
   "execution_count": 16,
   "metadata": {
    "collapsed": false
   },
   "outputs": [
    {
     "data": {
      "text/plain": [
       "99349"
      ]
     },
     "execution_count": 16,
     "metadata": {},
     "output_type": "execute_result"
    }
   ],
   "source": [
    "len(zizek_token_ls)"
   ]
  },
  {
   "cell_type": "code",
   "execution_count": 17,
   "metadata": {
    "collapsed": false
   },
   "outputs": [
    {
     "data": {
      "text/plain": [
       "65790"
      ]
     },
     "execution_count": 17,
     "metadata": {},
     "output_type": "execute_result"
    }
   ],
   "source": [
    "len(jbp_token_ls)"
   ]
  },
  {
   "cell_type": "markdown",
   "metadata": {},
   "source": [
    "Now we chunk our JBP/Zizek lists into documents of 250 tokens in length (single string):"
   ]
  },
  {
   "cell_type": "code",
   "execution_count": 18,
   "metadata": {
    "collapsed": false
   },
   "outputs": [],
   "source": [
    "jbp_docs_final = []\n",
    "for i in range(0, len(jbp_token_ls), 250):\n",
    "    jbp_docs_final.append(' '.join(jbp_token_ls[i:i + 500]))"
   ]
  },
  {
   "cell_type": "code",
   "execution_count": 19,
   "metadata": {
    "collapsed": false
   },
   "outputs": [],
   "source": [
    "zizek_docs_final = []\n",
    "for i in range(0, len(zizek_token_ls), 250):\n",
    "    zizek_docs_final.append(' '.join(zizek_token_ls[i:i + 500]))"
   ]
  },
  {
   "cell_type": "markdown",
   "metadata": {},
   "source": [
    "### Shuffle data/label\n",
    "Now we shuffle our docs, then label them accordingly s.t. our holdout will eventually be 40 jbp & 40 zizek snippets. The logic behind the shuffling here is that when we validate our alphas, we want the training data to properly represent a diverse set of documents"
   ]
  },
  {
   "cell_type": "code",
   "execution_count": 20,
   "metadata": {
    "collapsed": true
   },
   "outputs": [],
   "source": [
    "import random\n",
    "random.seed(42)"
   ]
  },
  {
   "cell_type": "code",
   "execution_count": 21,
   "metadata": {
    "collapsed": false
   },
   "outputs": [],
   "source": [
    "random.shuffle(zizek_docs_final)"
   ]
  },
  {
   "cell_type": "code",
   "execution_count": 22,
   "metadata": {
    "collapsed": true
   },
   "outputs": [],
   "source": [
    "random.shuffle(jbp_docs_final)"
   ]
  },
  {
   "cell_type": "markdown",
   "metadata": {},
   "source": [
    "Define train data as noted above:"
   ]
  },
  {
   "cell_type": "code",
   "execution_count": 23,
   "metadata": {
    "collapsed": true
   },
   "outputs": [],
   "source": [
    "train_zizek_docs = zizek_docs_final[:-40]\n",
    "train_jbp_docs = jbp_docs_final[:-40]"
   ]
  },
  {
   "cell_type": "code",
   "execution_count": 24,
   "metadata": {
    "collapsed": false
   },
   "outputs": [
    {
     "data": {
      "text/plain": [
       "358"
      ]
     },
     "execution_count": 24,
     "metadata": {},
     "output_type": "execute_result"
    }
   ],
   "source": [
    "len(train_zizek_docs)"
   ]
  },
  {
   "cell_type": "code",
   "execution_count": 25,
   "metadata": {
    "collapsed": false
   },
   "outputs": [
    {
     "data": {
      "text/plain": [
       "224"
      ]
     },
     "execution_count": 25,
     "metadata": {},
     "output_type": "execute_result"
    }
   ],
   "source": [
    "len(train_jbp_docs)"
   ]
  },
  {
   "cell_type": "code",
   "execution_count": 26,
   "metadata": {
    "collapsed": false
   },
   "outputs": [],
   "source": [
    "full_train_corpus = train_zizek_docs + train_jbp_docs"
   ]
  },
  {
   "cell_type": "code",
   "execution_count": 27,
   "metadata": {
    "collapsed": false
   },
   "outputs": [
    {
     "data": {
      "text/plain": [
       "582"
      ]
     },
     "execution_count": 27,
     "metadata": {},
     "output_type": "execute_result"
    }
   ],
   "source": [
    "len(full_train_corpus)"
   ]
  },
  {
   "cell_type": "markdown",
   "metadata": {},
   "source": [
    "# Train model\n",
    "Now, we build out a pipeline of vectorizing words --> Multinomial Naïve Bayes, fit via grid search. The grid search is partially used to find best alpha, but more chiefly to check out-of-sample performance"
   ]
  },
  {
   "cell_type": "markdown",
   "metadata": {},
   "source": [
    "### Vectorize text"
   ]
  },
  {
   "cell_type": "code",
   "execution_count": 28,
   "metadata": {
    "collapsed": false
   },
   "outputs": [],
   "source": [
    "nb_pipe = Pipeline([\n",
    "     ('vect', CountVectorizer(max_features=1000,stop_words='english',strip_accents='unicode')),\n",
    "     ('clf', MultinomialNB()),\n",
    "])\n",
    "params = {  \n",
    "'clf__alpha': (0.001, 0.0001, 0.00001)  \n",
    "}  \n",
    "nb_clf = GridSearchCV(nb_pipe,params,cv=StratifiedKFold(n_splits=5, shuffle=True,\n",
    "                                                        random_state=42))"
   ]
  },
  {
   "cell_type": "code",
   "execution_count": 29,
   "metadata": {
    "collapsed": true
   },
   "outputs": [],
   "source": [
    "y_train = [0]*358 + [1]*224"
   ]
  },
  {
   "cell_type": "code",
   "execution_count": 30,
   "metadata": {
    "collapsed": false
   },
   "outputs": [
    {
     "data": {
      "text/plain": [
       "582"
      ]
     },
     "execution_count": 30,
     "metadata": {},
     "output_type": "execute_result"
    }
   ],
   "source": [
    "len(y_train)"
   ]
  },
  {
   "cell_type": "code",
   "execution_count": 31,
   "metadata": {
    "collapsed": false
   },
   "outputs": [
    {
     "data": {
      "text/plain": [
       "GridSearchCV(cv=StratifiedKFold(n_splits=5, random_state=42, shuffle=True),\n",
       "       error_score='raise',\n",
       "       estimator=Pipeline(memory=None,\n",
       "     steps=[('vect', CountVectorizer(analyzer='word', binary=False, decode_error='strict',\n",
       "        dtype=<class 'numpy.int64'>, encoding='utf-8', input='content',\n",
       "        lowercase=True, max_df=1.0, max_features=1000, min_df=1,\n",
       "        ngram_range=(1, 1), preprocessor...nizer=None, vocabulary=None)), ('clf', MultinomialNB(alpha=1.0, class_prior=None, fit_prior=True))]),\n",
       "       fit_params=None, iid=True, n_jobs=1,\n",
       "       param_grid={'clf__alpha': (0.001, 0.0001, 1e-05)},\n",
       "       pre_dispatch='2*n_jobs', refit=True, return_train_score=True,\n",
       "       scoring=None, verbose=0)"
      ]
     },
     "execution_count": 31,
     "metadata": {},
     "output_type": "execute_result"
    }
   ],
   "source": [
    "nb_clf.fit(full_train_corpus,y_train)"
   ]
  },
  {
   "cell_type": "code",
   "execution_count": 32,
   "metadata": {
    "collapsed": false
   },
   "outputs": [
    {
     "data": {
      "text/plain": [
       "MultinomialNB(alpha=0.001, class_prior=None, fit_prior=True)"
      ]
     },
     "execution_count": 32,
     "metadata": {},
     "output_type": "execute_result"
    }
   ],
   "source": [
    "nb_clf.best_estimator_.named_steps['clf']"
   ]
  },
  {
   "cell_type": "markdown",
   "metadata": {},
   "source": [
    "# Test model\n",
    "We have 40 holdout examples from JBP & Zizek, respectively; we score our model on these:"
   ]
  },
  {
   "cell_type": "code",
   "execution_count": 33,
   "metadata": {
    "collapsed": true
   },
   "outputs": [],
   "source": [
    "test_zizek_docs = zizek_docs_final[-40:]\n",
    "test_jbp_docs = jbp_docs_final[-40:]"
   ]
  },
  {
   "cell_type": "code",
   "execution_count": 34,
   "metadata": {
    "collapsed": true
   },
   "outputs": [],
   "source": [
    "full_test_corpus = test_zizek_docs + test_jbp_docs"
   ]
  },
  {
   "cell_type": "code",
   "execution_count": 35,
   "metadata": {
    "collapsed": true
   },
   "outputs": [],
   "source": [
    "y_test = [0]*40 + [1]*40"
   ]
  },
  {
   "cell_type": "code",
   "execution_count": 36,
   "metadata": {
    "collapsed": false
   },
   "outputs": [
    {
     "data": {
      "text/plain": [
       "1.0"
      ]
     },
     "execution_count": 36,
     "metadata": {},
     "output_type": "execute_result"
    }
   ],
   "source": [
    "nb_clf.score(full_test_corpus,y_test)"
   ]
  },
  {
   "cell_type": "code",
   "execution_count": 37,
   "metadata": {
    "collapsed": true
   },
   "outputs": [],
   "source": [
    "import numpy as np"
   ]
  },
  {
   "cell_type": "markdown",
   "metadata": {},
   "source": [
    "# EDA\n",
    "For some Exploratory Data Analysis, we want to look at which words had the most outsize impact on our model:"
   ]
  },
  {
   "cell_type": "code",
   "execution_count": 38,
   "metadata": {
    "collapsed": true
   },
   "outputs": [],
   "source": [
    "import matplotlib.pyplot as plt"
   ]
  },
  {
   "cell_type": "code",
   "execution_count": 39,
   "metadata": {
    "collapsed": true
   },
   "outputs": [],
   "source": [
    "vocab_dict = nb_clf.best_estimator_.named_steps['vect'].vocabulary_\n",
    "\n",
    "vocab_keys = sorted(vocab_dict.keys())"
   ]
  },
  {
   "cell_type": "code",
   "execution_count": 40,
   "metadata": {
    "collapsed": false
   },
   "outputs": [],
   "source": [
    "def eda(author,ind):\n",
    "\n",
    "    nb_clf.best_estimator_.named_steps['clf'].feature_log_prob_.shape\n",
    "\n",
    "    arg_ranks = sorted(nb_clf.best_estimator_.named_steps['clf'].feature_log_prob_[ind],\n",
    "                       reverse=True)\n",
    "\n",
    "    top_args = np.argsort(nb_clf.best_estimator_.named_steps['clf'].feature_log_prob_[ind])[:5]\n",
    "\n",
    "    plt.figure(figsize=(7,3))\n",
    "    plt.bar(x=[vocab_keys[i] for i in top_args],\n",
    "            height=[abs(x) for x in arg_ranks[:5]])\n",
    "    plt.title('Top 5 '+author+' words (by neg. log prob)',fontsize=17,weight='bold')\n",
    "    plt.ylabel('Log prob of word (neg)')\n",
    "    plt.xlabel('Word',fontsize=12)\n",
    "\n",
    "    plt.show()"
   ]
  },
  {
   "cell_type": "code",
   "execution_count": 41,
   "metadata": {
    "collapsed": false
   },
   "outputs": [
    {
     "data": {
      "image/png": "[encoded data removed]",
      "text/plain": [
       "<Figure size 504x216 with 1 Axes>"
      ]
     },
     "metadata": {},
     "output_type": "display_data"
    }
   ],
   "source": [
    "eda('JBP',0)"
   ]
  },
  {
   "cell_type": "code",
   "execution_count": 42,
   "metadata": {
    "collapsed": false
   },
   "outputs": [
    {
     "data": {
      "image/png": "[encoded data removed]",
      "text/plain": [
       "<Figure size 504x216 with 1 Axes>"
      ]
     },
     "metadata": {},
     "output_type": "display_data"
    }
   ],
   "source": [
    "eda('Zizek',1)"
   ]
  },
  {
   "cell_type": "markdown",
   "metadata": {
    "collapsed": true
   },
   "source": [
    "# Export pipeline"
   ]
  },
  {
   "cell_type": "code",
   "execution_count": 43,
   "metadata": {
    "collapsed": true
   },
   "outputs": [],
   "source": [
    "import pickle"
   ]
  },
  {
   "cell_type": "code",
   "execution_count": 44,
   "metadata": {
    "collapsed": true
   },
   "outputs": [],
   "source": [
    "pickle.dump( nb_clf, open( \"nb_vect.p\", \"wb\" ) )"
   ]
  },
  {
   "cell_type": "code",
   "execution_count": null,
   "metadata": {
    "collapsed": true
   },
   "outputs": [],
   "source": []
  }
 ],
 "metadata": {
  "kernelspec": {
   "display_name": "Python 3",
   "language": "python",
   "name": "python3"
  },
  "language_info": {
   "codemirror_mode": {
    "name": "ipython",
    "version": 3
   },
   "file_extension": ".py",
   "mimetype": "text/x-python",
   "name": "python",
   "nbconvert_exporter": "python",
   "pygments_lexer": "ipython3",
   "version": "3.6.6"
  }
 },
 "nbformat": 4,
 "nbformat_minor": 2
}
